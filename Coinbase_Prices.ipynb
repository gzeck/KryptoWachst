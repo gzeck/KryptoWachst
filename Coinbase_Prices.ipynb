{
 "cells": [
  {
   "cell_type": "code",
   "execution_count": 2,
   "metadata": {},
   "outputs": [],
   "source": [
    "#!/Library/Frameworks/Python.framework/Versions/3.6/bin/python3\n",
    "\n",
    "import datetime\n",
    "import numpy as np\n",
    "import pandas as pd\n",
    "from pandas import Series,DataFrame\n",
    "import csv\n",
    "from coinbase.wallet.client import *\n",
    "import sys"
   ]
  },
  {
   "cell_type": "code",
   "execution_count": 7,
   "metadata": {},
   "outputs": [
    {
     "name": "stderr",
     "output_type": "stream",
     "text": [
      "/Users/gregzeck/Library/Python/3.6/lib/python/site-packages/coinbase/wallet/client.py:152: UserWarning: Please supply API version (YYYY-MM-DD) as CB-VERSION header (https://developers.coinbase.com/api#versioning)\n",
      "  warnings.warn(message, UserWarning)\n"
     ]
    }
   ],
   "source": [
    "# api_key = \"7HpV5wN4mthzyhtT\"\n",
    "# api_secret = \"NrEB9mCSIstEyAYyzs6IBah8yION4GI7\"\n",
    "#CB_VERSION = '2018-01-13'\n",
    "my_client = Client(api_key=\"7HpV5wN4mthzyhtT\", api_secret=\"NrEB9mCSIstEyAYyzs6IBah8yION4GI7\", api_version=\"https://api.coinbase.com/\"+'\"2018-01-13')\n",
    "\n",
    "def get_btcbuy_price(self, currency_pair):\n",
    "    buy_price = my_client.get_buy_price(currency_pair = 'BTC-USD')\n",
    "    timestamp = datetime.datetime.now()\n",
    "    #price_stamp = \"Buy Price: $%s : Timestamp: %s\" % (buy_price.amount, timestamp)\n",
    "    return(timestamp,str('Buy Price'), buy_price.amount,buy_price.base, buy_price.currency)\n",
    "\n",
    "def get_btcspot_price(self,currency_pair):\n",
    "    spot_price = my_client.get_spot_price(currency_pair='BTC-USD')\n",
    "    timestamp = datetime.datetime.now()\n",
    "    #price_stamp = \"Spot Price: $%s : Timestamp: %s\" %(spot_price.amount, timestamp)\n",
    "    return(timestamp, str('Spot Price'), spot_price.amount,spot_price.base, spot_price.currency)\n",
    "\n",
    "def get_btcsell_price(self, currency_pair):\n",
    "    sell_price = my_client.get_sell_price(currency_pair='BTC-USD')\n",
    "    timestamp = datetime.datetime.now()\n",
    "    #price_stamp = \"Sell Price: $%s : Timestamp: %s\" %(sell_price.amount, timestamp)\n",
    "    return(timestamp, str('Sell Price'),sell_price.amount,sell_price.base, sell_price.currency)\n",
    "\n",
    "def get_ethbuy_price(self, currency_pair):\n",
    "    buy_price = my_client.get_buy_price(currency_pair = \"ETH-USD\")\n",
    "    timestamp = datetime.datetime.now()\n",
    "    #price_stamp = \"Buy Price: $%s : Timestamp: %s\" % (buy_price.amount, timestamp)\n",
    "    return(timestamp,str('Buy Price'), buy_price.amount,buy_price.base, buy_price.currency)\n",
    "\n",
    "def get_ethspot_price(self, currency_pair):\n",
    "    spot_price = my_client.get_spot_price(currency_pair= \"ETH-USD\")\n",
    "    timestamp = datetime.datetime.now()\n",
    "    #price_stamp = \"Spot Price: $%s : Timestamp: %s\" %(spot_price.amount, timestamp)\n",
    "    return(timestamp, str('Spot Price'), spot_price.amount,spot_price.base, spot_price.currency)\n",
    "\n",
    "def get_ethsell_price(self, currency_pair):\n",
    "    sell_price = my_client.get_sell_price(currency_pair =\"ETH-USD\")\n",
    "    timestamp = datetime.datetime.now()\n",
    "    #price_stamp = \"Sell Price: $%s : Timestamp: %s\" %(sell_price.amount, timestamp)\n",
    "    return(timestamp, str('Sell Price'),sell_price.amount,sell_price.base, sell_price.currency)\n",
    "\n",
    "def get_ltcbuy_price(self, currency_pair):\n",
    "    buy_price = my_client.get_buy_price(currency_pair = \"LTC-USD\")\n",
    "    timestamp = datetime.datetime.now()\n",
    "    #price_stamp = \"Buy Price: $%s : Timestamp: %s\" % (buy_price.amount, timestamp)\n",
    "    return(timestamp,str('Buy Price'), buy_price.amount,buy_price.base, buy_price.currency)\n",
    "\n",
    "def get_ltcspot_price(self, currency_pair):\n",
    "    spot_price = my_client.get_spot_price(currency_pair= \"LTC-USD\")\n",
    "    timestamp = datetime.datetime.now()\n",
    "    #price_stamp = \"Spot Price: $%s : Timestamp: %s\" %(spot_price.amount, timestamp)\n",
    "    return(timestamp, str('Spot Price'), spot_price.amount,spot_price.base, spot_price.currency)\n",
    "\n",
    "def get_ltcsell_price(self, currency_pair):\n",
    "    sell_price = my_client.get_sell_price(currency_pair =\"LTC-USD\")\n",
    "    timestamp = datetime.datetime.now()\n",
    "    #price_stamp = \"Sell Price: $%s : Timestamp: %s\" %(sell_price.amount, timestamp)\n",
    "    return(timestamp, str('Sell Price'),sell_price.amount,sell_price.base, sell_price.currency)\n",
    "\n",
    "f = open('coinbase_prices.csv','a')\n",
    "f.write(str(get_btcbuy_price(my_client, currency_pair='BTC-USD'))+ '\\n')\n",
    "f.write(str(get_btcspot_price(my_client, currency_pair='BTC-USD'))+ '\\n')\n",
    "f.write(str(get_btcsell_price(my_client, currency_pair='BTC-USD'))+ '\\n')\n",
    "f.write(str(get_ethbuy_price(my_client, currency_pair='BTC-USD'))+ '\\n')\n",
    "f.write(str(get_ethspot_price(my_client, currency_pair='BTC-USD'))+ '\\n')\n",
    "f.write(str(get_ethsell_price(my_client, currency_pair='BTC-USD'))+ '\\n')\n",
    "f.write(str(get_ltcbuy_price(my_client, currency_pair='BTC-USD'))+ '\\n')\n",
    "f.write(str(get_ltcspot_price(my_client, currency_pair='BTC-USD'))+ '\\n')\n",
    "f.write(str(get_ltcsell_price(my_client, currency_pair='BTC-USD'))+ '\\n')\n",
    "f.close()\n"
   ]
  },
  {
   "cell_type": "code",
   "execution_count": null,
   "metadata": {},
   "outputs": [],
   "source": []
  },
  {
   "cell_type": "code",
   "execution_count": 8,
   "metadata": {},
   "outputs": [
    {
     "name": "stderr",
     "output_type": "stream",
     "text": [
      "/Users/gregzeck/Library/Python/3.6/lib/python/site-packages/coinbase/wallet/client.py:152: UserWarning: Please supply API version (YYYY-MM-DD) as CB-VERSION header (https://developers.coinbase.com/api#versioning)\n",
      "  warnings.warn(message, UserWarning)\n"
     ]
    },
    {
     "name": "stdout",
     "output_type": "stream",
     "text": [
      "(datetime.datetime(2018, 1, 17, 23, 57, 51, 658061), 'Buy Price', '11261.78', 'BTC', 'USD')\n",
      "(datetime.datetime(2018, 1, 17, 23, 57, 51, 685221), 'Sell Price', '11011.63', 'BTC', 'USD')\n",
      "(datetime.datetime(2018, 1, 17, 23, 57, 51, 716110), 'Spot Price', '11122.58', 'BTC', 'USD')\n",
      "(datetime.datetime(2018, 1, 17, 23, 57, 51, 739076), 'Buy Price', '1005.00', 'ETH', 'USD')\n",
      "(datetime.datetime(2018, 1, 17, 23, 57, 51, 764380), 'Sell Price', '985.88', 'ETH', 'USD')\n",
      "(datetime.datetime(2018, 1, 17, 23, 57, 51, 787940), 'Spot Price', '995.01', 'ETH', 'USD')\n",
      "(datetime.datetime(2018, 1, 17, 23, 57, 51, 812596), 'Buy Price', '187.00', 'LTC', 'USD')\n",
      "(datetime.datetime(2018, 1, 17, 23, 57, 51, 838759), 'Sell Price', '183.28', 'LTC', 'USD')\n",
      "(datetime.datetime(2018, 1, 17, 23, 57, 51, 868210), 'Spot Price', '185.14', 'LTC', 'USD')\n"
     ]
    }
   ],
   "source": [
    "print(get_btcbuy_price(my_client, currency_pair=\"BTC-USD\"))\n",
    "print(get_btcsell_price(my_client, currency_pair=\"BTC-USD\"))\n",
    "print(get_btcspot_price(my_client, currency_pair=\"BTC-USD\"))\n",
    "print(get_ethbuy_price(my_client, currency_pair=\"ETH-USD\"))\n",
    "print(get_ethsell_price(my_client, currency_pair=\"ETH-USD\"))\n",
    "print(get_ethspot_price(my_client, currency_pair=\"ETH-USD\"))\n",
    "print(get_ltcbuy_price(my_client, currency_pair=\"LTC-USD\"))\n",
    "print(get_ltcsell_price(my_client, currency_pair=\"LTC-USD\"))\n",
    "print(get_ltcspot_price(my_client, currency_pair=\"LTC-USD\"))"
   ]
  },
  {
   "cell_type": "code",
   "execution_count": null,
   "metadata": {},
   "outputs": [],
   "source": []
  },
  {
   "cell_type": "code",
   "execution_count": null,
   "metadata": {},
   "outputs": [],
   "source": []
  }
 ],
 "metadata": {
  "kernelspec": {
   "display_name": "Python 3",
   "language": "python",
   "name": "python3"
  },
  "language_info": {
   "codemirror_mode": {
    "name": "ipython",
    "version": 3
   },
   "file_extension": ".py",
   "mimetype": "text/x-python",
   "name": "python",
   "nbconvert_exporter": "python",
   "pygments_lexer": "ipython3",
   "version": "3.6.0"
  }
 },
 "nbformat": 4,
 "nbformat_minor": 2
}
